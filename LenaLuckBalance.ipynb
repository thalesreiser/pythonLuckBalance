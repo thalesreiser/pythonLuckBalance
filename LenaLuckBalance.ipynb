{
  "nbformat": 4,
  "nbformat_minor": 0,
  "metadata": {
    "colab": {
      "name": "LenaLuckBalance.ipynb",
      "provenance": []
    },
    "kernelspec": {
      "name": "python3",
      "display_name": "Python 3"
    },
    "language_info": {
      "name": "python"
    }
  },
  "cells": [
    {
      "cell_type": "code",
      "metadata": {
        "colab": {
          "base_uri": "https://localhost:8080/"
        },
        "id": "cZc1SwJAa_oh",
        "outputId": "370c2dd1-401d-4fe8-f54d-9832155a42c2"
      },
      "source": [
        "k=3\n",
        "l=[5,2,1,8,10,5]\n",
        "t=[1,1,1,1,0,0]\n",
        "contest=[0,0,0,0,0,0]\n",
        "n=6\n",
        "\n",
        "for i in range(n):\n",
        "  contest[i]=[l[i], t[i]]\n",
        "\n",
        "def luckBalance(k, contest):\n",
        "  balance=0\n",
        "  impor=[]\n",
        "  for i in range(len(contest)):\n",
        "    li,ti = contest[i]\n",
        "    if ti==0:\n",
        "      balance+=li\n",
        "    else:\n",
        "      impor.append(li)\n",
        "  impor.sort()\n",
        "  if len(impor)>k:\n",
        "    for i in range(len(impor)-k):\n",
        "      balance-=impor[i]\n",
        "    for i in range(len(impor)-k, len(impor)):\n",
        "      balance+=impor[i]\n",
        "  elif len(impor)<=k:\n",
        "    for i in range(len(impor)):\n",
        "      balance+=impor[i]\n",
        "  return balance\n",
        "\n",
        "\n",
        "luckBalance(k, contest)"
      ],
      "execution_count": 113,
      "outputs": [
        {
          "output_type": "execute_result",
          "data": {
            "text/plain": [
              "29"
            ]
          },
          "metadata": {},
          "execution_count": 113
        }
      ]
    }
  ]
}